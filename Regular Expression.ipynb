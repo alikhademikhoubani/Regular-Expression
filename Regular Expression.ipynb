{
 "cells": [
  {
   "cell_type": "code",
   "execution_count": 1,
   "id": "70f1b656",
   "metadata": {},
   "outputs": [],
   "source": [
    "import re"
   ]
  },
  {
   "cell_type": "code",
   "execution_count": 2,
   "id": "dcdfc31c",
   "metadata": {},
   "outputs": [
    {
     "data": {
      "text/plain": [
       "['9991116666', '(999)-333-7777']"
      ]
     },
     "execution_count": 2,
     "metadata": {},
     "output_type": "execute_result"
    }
   ],
   "source": [
    "text='''Elon musk's phone number is 9991116666, call him if you have any quenstions on dodgecoin Tesla's revenue is 40 billion\n",
    "Tesla's CFO number (999)-333-7777'''\n",
    "pattern='\\(\\d{3}\\)-\\d{3}-\\d{4}|\\d{10}'\n",
    "matches=re.findall(pattern,text)\n",
    "matches"
   ]
  },
  {
   "cell_type": "code",
   "execution_count": 3,
   "id": "607fa289",
   "metadata": {},
   "outputs": [],
   "source": [
    "text='''Note 1 - Overview\n",
    "kjkklcndkncjdbncjbncjnkmll;sl;k;sdm,dm,mdnjbjhghjjkklklkl\n",
    "Note 2 - Introduction\n",
    "jkjkjkjkjkjlekdlke;lcd;edcl;ecl;dec,dlmvkfnvkmfvn,mr,ermfl,emflemflneknfjebfjebfjebdfjebfjdenj\n",
    "Note 3 - Summary\n",
    "fkjkdfjkdfhjrbgrjfnjerfjreifjrhfjrfnjrnfjrnfjrfnjrnfjfnnxmcncdfjenfjefjejfwkffkwefefierfjirohfihjhsdkjhfjdkfhjfhkfhdjkfhdsfdhfkdhfjsdhfskjhfkshfskjfhsjkfhjshdjhjdjfjfeijfriigtio'''"
   ]
  },
  {
   "cell_type": "code",
   "execution_count": 4,
   "id": "1611b74c",
   "metadata": {},
   "outputs": [
    {
     "data": {
      "text/plain": [
       "['Overview', 'Introduction', 'Summary']"
      ]
     },
     "execution_count": 4,
     "metadata": {},
     "output_type": "execute_result"
    }
   ],
   "source": [
    "pattern='Note \\d - ([^\\n]*)'\n",
    "re.findall(pattern,text)"
   ]
  },
  {
   "cell_type": "code",
   "execution_count": 5,
   "id": "136dfc5d",
   "metadata": {},
   "outputs": [
    {
     "data": {
      "text/plain": [
       "['FY2021 Q1', 'FY2020 Q4', 'fy2023 Q2']"
      ]
     },
     "execution_count": 5,
     "metadata": {},
     "output_type": "execute_result"
    }
   ],
   "source": [
    "text='''The gross cost of operating lease vehicles in FY2021 Q1 was $ $4.85 billion.\n",
    "In previous quarter i.e. FY2020 Q4 it was $3 billion. fy2023 Q2'''\n",
    "pattern='FY\\d{4} Q[1-4]'\n",
    "re.findall(pattern,text,flags=re.IGNORECASE)"
   ]
  },
  {
   "cell_type": "code",
   "execution_count": 6,
   "id": "aa99eae3",
   "metadata": {},
   "outputs": [
    {
     "data": {
      "text/plain": [
       "['2021 Q1', '2020 Q4']"
      ]
     },
     "execution_count": 6,
     "metadata": {},
     "output_type": "execute_result"
    }
   ],
   "source": [
    "text='''The gross cost of operating lease vehicles in FY2021 Q1 was $ $4.85 billion.\n",
    "In previous quarter i.e. FY2020 Q4 it was $3 billion. fy2023 Q2'''\n",
    "pattern='FY(\\d{4} Q[1-4])'\n",
    "re.findall(pattern,text)"
   ]
  },
  {
   "cell_type": "code",
   "execution_count": 7,
   "id": "25c56a01",
   "metadata": {},
   "outputs": [
    {
     "data": {
      "text/plain": [
       "['$4.85', '$3']"
      ]
     },
     "execution_count": 7,
     "metadata": {},
     "output_type": "execute_result"
    }
   ],
   "source": [
    "text='''The gross of operating lease vehicles in FY2021 Q1 was $4.85 billion.Testla's employee count is 5400 In previous quarter i.e. FY2020 Q4 it was $3 billion FY2030 Q5'''\n",
    "pattern='\\$[1-9\\.]+'\n",
    "re.findall(pattern,text)"
   ]
  },
  {
   "cell_type": "code",
   "execution_count": 8,
   "id": "623d9d0b",
   "metadata": {},
   "outputs": [
    {
     "data": {
      "text/plain": [
       "['4.85', '3']"
      ]
     },
     "execution_count": 8,
     "metadata": {},
     "output_type": "execute_result"
    }
   ],
   "source": [
    "text='''The gross of operating lease vehicles in FY2021 Q1 was $4.85 billion.Testla's employee count is 5400 In previous quarter i.e. FY2020 Q4 it was $3 billion FY2030 Q5'''\n",
    "pattern='\\$([1-9\\.]+)'\n",
    "re.findall(pattern,text)"
   ]
  },
  {
   "cell_type": "code",
   "execution_count": 9,
   "id": "ee85db1f",
   "metadata": {},
   "outputs": [
    {
     "data": {
      "text/plain": [
       "[('2021 Q1', '4.85'), ('2020 Q4', '3')]"
      ]
     },
     "execution_count": 9,
     "metadata": {},
     "output_type": "execute_result"
    }
   ],
   "source": [
    "text='''The gross of operating lease vehicles in FY2021 Q1 was $4.85 billion.Testla's employee count is 5400 In previous quarter i.e. FY2020 Q4 it was $3 billion FY2030 Q5'''\n",
    "pattern='FY(\\d{4} Q[1-4])[^$]*\\$([1-9\\.]*)'\n",
    "re.findall(pattern,text)"
   ]
  },
  {
   "cell_type": "code",
   "execution_count": 12,
   "id": "d1a65398",
   "metadata": {},
   "outputs": [
    {
     "data": {
      "text/plain": [
       "['elonmusk', 'teslarati', 'dummy_tesla', 'dummy_2_tesla']"
      ]
     },
     "execution_count": 12,
     "metadata": {},
     "output_type": "execute_result"
    }
   ],
   "source": [
    "text='''Follow our leader Elon musk on twitter here: https://twitter.com/elonmusk, more information on Tesla's products can be found at https://www.tesla.com/. Also here are leading influencers for tesla related news,\n",
    "https://twitter.com/teslarati\n",
    "https://twitter.com/dummy_tesla\n",
    "https://twitter.com/dummy_2_tesla'''\n",
    "pattern='twitter.com\\/([A-Za-z0-9\\_]*)'\n",
    "re.findall(pattern,text)"
   ]
  },
  {
   "cell_type": "code",
   "execution_count": 14,
   "id": "6a5135dc",
   "metadata": {},
   "outputs": [
    {
     "data": {
      "text/plain": [
       "['Credit Risk', 'Supply Risk']"
      ]
     },
     "execution_count": 14,
     "metadata": {},
     "output_type": "execute_result"
    }
   ],
   "source": [
    "text='''Concentration of Risk: Credit Risk\n",
    "Financial instruments that potentially subject us to a concentration of credit risk consist of cash, cash equivalents, marketable securities, restricted cash, accounts receivable, convertible not heddges, and interest rate swaps. Our cash balances are primarily invested in money market funds or on deposit at high credit quality financial institutions in the U.S. These deposits are typically in excess of insured limits. As of September 30, and December 31, 2020, no entity represented 10% or more of our total accounts receivable balance. The risk of concentration for our convertible not hedges and interest rate swaps is mitigated by transacting with several highly-rated multinational banks. \n",
    "Concentration of Risk: Supply Risk\n",
    "We are dependent on our suppliers, including single source suppliers, and the anability of these suppliers to deliver necessary components of our products in a timely manner at prices, quality levels and volumes acceptable to us, or our inability to efficiency manage these components from these suppliers, could have a material adverse effect on our business, products, financial condition and operating results.'''\n",
    "pattern='Concentration of Risk: ([^\\n]*)'\n",
    "re.findall(pattern,text)"
   ]
  },
  {
   "cell_type": "code",
   "execution_count": 15,
   "id": "7357791a",
   "metadata": {},
   "outputs": [
    {
     "data": {
      "text/plain": [
       "[('2021 Q1', '4.85'), ('2021 Q1', '8')]"
      ]
     },
     "execution_count": 15,
     "metadata": {},
     "output_type": "execute_result"
    }
   ],
   "source": [
    "text='''Tesla's gross cost of operating lease vehicles in FY2021 Q1 was $4.85 billion.\n",
    "BMW's gross of operating vehicles in FY2021 Q1 was $8 billion.'''\n",
    "pattern='FY(\\d{4} Q[1-4])[a-zA-Z0-9\\ ]*[\\$]([1-9\\.]*)'\n",
    "re.findall(pattern,text)"
   ]
  }
 ],
 "metadata": {
  "kernelspec": {
   "display_name": "Python 3 (ipykernel)",
   "language": "python",
   "name": "python3"
  },
  "language_info": {
   "codemirror_mode": {
    "name": "ipython",
    "version": 3
   },
   "file_extension": ".py",
   "mimetype": "text/x-python",
   "name": "python",
   "nbconvert_exporter": "python",
   "pygments_lexer": "ipython3",
   "version": "3.10.5"
  }
 },
 "nbformat": 4,
 "nbformat_minor": 5
}
